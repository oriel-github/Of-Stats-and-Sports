{
 "cells": [
  {
   "cell_type": "code",
   "execution_count": 308,
   "metadata": {},
   "outputs": [],
   "source": [
    "def remove_unnamed_team_words(words_sublist, no_words_to_remove):\n",
    "    for _ in range(no_words_to_remove): words_sublist.pop() ## Exclude words that will mess up function, e.g. '[place] NHL team'\n",
    "    return words_sublist\n",
    "\n",
    "def handle_potential_team_name(words_sublist):\n",
    "    if words_sublist[-4][-1] not in ['Los', 'Las']: return remove_unnamed_team_words(words_sublist, 3)\n",
    "    else: return remove_unnamed_team_words(words_sublist, 4) \n",
    "\n",
    "def handle_unnamed_team(words_sublist):\n",
    "    if len(words_sublist) < 4: return remove_unnamed_team_words(words_sublist, len(words_sublist))\n",
    "    elif words_sublist[-4][-1] == 's': return handle_potential_team_name(words_sublist) \n",
    "    else: return remove_unnamed_team_words(words_sublist, 4)\n",
    "\n",
    "def get_teams_from_string(string): ## Splits all the individual team names from the single Metro sport team string\n",
    "    words = string.split(' ')\n",
    "    if len(words) > 1:\n",
    "        teams = []\n",
    "        while words != []:\n",
    "            # Wiki name convention calls unnamed teams '[place] NHL team'\n",
    "            if 'team' in set(words): \n",
    "                team_idx = words.index('team')  # Assumes a metro doesn't have 2 unnamed teams \n",
    "                words_sublist_with_team_dropped = handle_unnamed_team(words[:team_idx+1])\n",
    "                words_sublist_after_team_idx = words[team_idx+1:]\n",
    "                return (get_teams_from_string(' '.join(words_sublist_with_team_dropped)) +\n",
    "                        get_teams_from_string(' '.join(words_sublist_after_team_idx)))\n",
    "\n",
    "            ## Assumes single words ending in s must be team name, and first word of multi-word name never end in s\n",
    "            elif words[0][-1] == 's': teams.append(words.pop(0))\n",
    "            else: \n",
    "                if len(words) == 1: teams.append(words.pop(0))\n",
    "                else: teams.append(' '.join([words.pop(0), words.pop(0)])) ## assumes multi-word names are only 2 words long\n",
    "        return teams\n",
    "    else: return words\n",
    "\n",
    "# handle_unnamed_team(['Laker', 'King', 'Utah', 'NHL', 'Magic', 'Jazz'])\n",
    "test = list(filter(None, get_teams_from_string('Kings Utah NHL team'))) \n"
   ]
  },
  {
   "cell_type": "code",
   "execution_count": 309,
   "metadata": {},
   "outputs": [
    {
     "data": {
      "text/plain": [
       "['Kings']"
      ]
     },
     "execution_count": 309,
     "metadata": {},
     "output_type": "execute_result"
    }
   ],
   "source": [
    "test\n"
   ]
  },
  {
   "cell_type": "code",
   "execution_count": null,
   "metadata": {},
   "outputs": [],
   "source": [
    "all(elem == \"\" for elem in test)"
   ]
  },
  {
   "cell_type": "code",
   "execution_count": 303,
   "metadata": {},
   "outputs": [
    {
     "data": {
      "text/plain": [
       "[]"
      ]
     },
     "execution_count": 303,
     "metadata": {},
     "output_type": "execute_result"
    }
   ],
   "source": [
    "a = ['Laker', 'King', 'Utah', 'NHL', 'team']\n",
    "b = []\n",
    "c = ' '.join(b)\n",
    "t = c.split(' ')\n",
    "s = t + t\n",
    "s\n",
    "s = list(filter(None, s))\n",
    "s\n",
    "# team_idx = a.index('team')\n",
    "# a.pop()\n",
    "# a"
   ]
  },
  {
   "cell_type": "code",
   "execution_count": 269,
   "metadata": {},
   "outputs": [
    {
     "data": {
      "text/plain": [
       "[]"
      ]
     },
     "execution_count": 269,
     "metadata": {},
     "output_type": "execute_result"
    }
   ],
   "source": [
    "c = []\n",
    "d = []\n",
    "f = c + d\n",
    "f"
   ]
  }
 ],
 "metadata": {
  "etc_active_cell": 14,
  "kernelspec": {
   "display_name": "Python 3 (ipykernel)",
   "language": "python",
   "name": "python3"
  },
  "language_info": {
   "codemirror_mode": {
    "name": "ipython",
    "version": 3
   },
   "file_extension": ".py",
   "mimetype": "text/x-python",
   "name": "python",
   "nbconvert_exporter": "python",
   "pygments_lexer": "ipython3",
   "version": "3.11.2"
  }
 },
 "nbformat": 4,
 "nbformat_minor": 4
}
