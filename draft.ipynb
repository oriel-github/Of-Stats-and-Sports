{
 "cells": [
  {
   "cell_type": "markdown",
   "metadata": {
    "deletable": false,
    "editable": false,
    "nbgrader": {
     "cell_type": "markdown",
     "checksum": "b02d5cd3273f561e4ae939bb2a41740c",
     "grade": false,
     "grade_id": "cell-97b49d8639e908c4",
     "locked": true,
     "schema_version": 3,
     "solution": false
    }
   },
   "source": [
    "## Question 5\n",
    "In this question I would like you to explore the hypothesis that **given that an area has two sports teams in different sports, those teams will perform the same within their respective sports**. How I would like to see this explored is with a series of paired t-tests (so use [`ttest_rel`](https://docs.scipy.org/doc/scipy/reference/generated/scipy.stats.ttest_rel.html)) between all pairs of sports. Are there any sports where we can reject the null hypothesis? Again, average values where a sport has multiple teams in one region. Remember, you will only be including, for each sport, cities which have teams engaged in that sport, drop others as appropriate. This question is worth 20% of the grade for this assignment."
   ]
  },
  {
   "cell_type": "code",
   "execution_count": 28,
   "metadata": {
    "deletable": false,
    "nbgrader": {
     "cell_type": "code",
     "checksum": "6d78c961eb66f8d8c81f06d33ae8f393",
     "grade": false,
     "grade_id": "cell-92f25f44b8d1179f",
     "locked": false,
     "schema_version": 3,
     "solution": true
    }
   },
   "outputs": [
    {
     "data": {
      "text/html": [
       "<div>\n",
       "<style scoped>\n",
       "    .dataframe tbody tr th:only-of-type {\n",
       "        vertical-align: middle;\n",
       "    }\n",
       "\n",
       "    .dataframe tbody tr th {\n",
       "        vertical-align: top;\n",
       "    }\n",
       "\n",
       "    .dataframe thead th {\n",
       "        text-align: right;\n",
       "    }\n",
       "</style>\n",
       "<table border=\"1\" class=\"dataframe\">\n",
       "  <thead>\n",
       "    <tr style=\"text-align: right;\">\n",
       "      <th></th>\n",
       "      <th>NFL</th>\n",
       "      <th>NBA</th>\n",
       "      <th>NHL</th>\n",
       "      <th>MLB</th>\n",
       "    </tr>\n",
       "  </thead>\n",
       "  <tbody>\n",
       "    <tr>\n",
       "      <th>NFL</th>\n",
       "      <td>NaN</td>\n",
       "      <td>0.941792</td>\n",
       "      <td>0.030883</td>\n",
       "      <td>0.802499</td>\n",
       "    </tr>\n",
       "    <tr>\n",
       "      <th>NBA</th>\n",
       "      <td>0.941792</td>\n",
       "      <td>NaN</td>\n",
       "      <td>0.022297</td>\n",
       "      <td>0.951629</td>\n",
       "    </tr>\n",
       "    <tr>\n",
       "      <th>NHL</th>\n",
       "      <td>0.030883</td>\n",
       "      <td>0.022297</td>\n",
       "      <td>NaN</td>\n",
       "      <td>0.000703</td>\n",
       "    </tr>\n",
       "    <tr>\n",
       "      <th>MLB</th>\n",
       "      <td>0.802499</td>\n",
       "      <td>0.951629</td>\n",
       "      <td>0.000703</td>\n",
       "      <td>NaN</td>\n",
       "    </tr>\n",
       "  </tbody>\n",
       "</table>\n",
       "</div>"
      ],
      "text/plain": [
       "          NFL       NBA       NHL       MLB\n",
       "NFL       NaN  0.941792  0.030883  0.802499\n",
       "NBA  0.941792       NaN  0.022297  0.951629\n",
       "NHL  0.030883  0.022297       NaN  0.000703\n",
       "MLB  0.802499  0.951629  0.000703       NaN"
      ]
     },
     "execution_count": 28,
     "metadata": {},
     "output_type": "execute_result"
    }
   ],
   "source": [
    "import pandas as pd\n",
    "import numpy as np\n",
    "import scipy.stats as stats\n",
    "import re\n",
    "\n",
    "mlb_df=pd.read_csv(\"assets/mlb.csv\")\n",
    "nhl_df=pd.read_csv(\"assets/nhl.csv\")\n",
    "nba_df=pd.read_csv(\"assets/nba.csv\")\n",
    "nfl_df=pd.read_csv(\"assets/nfl.csv\")\n",
    "cities=pd.read_html(\"assets/wikipedia_data.html\")[1]\n",
    "cities=cities.iloc[:-1,[0,3,5,6,7,8]]\n",
    "\n",
    "def sports_team_performance():\n",
    "    # Note: p_values is a full dataframe, so df.loc[\"NFL\",\"NBA\"] should be the same as df.loc[\"NBA\",\"NFL\"] and\n",
    "    # df.loc[\"NFL\",\"NFL\"] should return np.nan\n",
    "    sports = ['NFL', 'NBA', 'NHL', 'MLB']\n",
    "    p_values = pd.DataFrame({k:np.nan for k in sports}, index=sports)\n",
    "    \n",
    "    pairs = ['NFL_NBA', 'NFL_NHL', 'NFL_MLB', 'NBA_NHL', 'NBA_MLB', 'NHL_MLB']\n",
    "        \n",
    "    NFL_NBA = nfl_pop.merge(nba_pop, on='Metropolitan area')\n",
    "    NFL_NHL = nfl_pop.merge(nhl_pop, on='Metropolitan area')\n",
    "    NFL_MLB = nfl_pop.merge(mlb_pop, on='Metropolitan area')\n",
    "    NBA_NHL = nba_pop.merge(nhl_pop, on='Metropolitan area')\n",
    "    NBA_MLB = nba_pop.merge(mlb_pop, on='Metropolitan area')\n",
    "    NHL_MLB = nhl_pop.merge(mlb_pop, on='Metropolitan area')\n",
    "    \n",
    "    NFL_NBA_stat = stats.ttest_rel(NFL_NBA['W/L ratio_x'], NFL_NBA['W/L ratio_y'])\n",
    "    NFL_NHL_stat = stats.ttest_rel(NFL_NHL['W/L ratio_x'], NFL_NHL['W/L ratio_y'])\n",
    "    NFL_MLB_stat = stats.ttest_rel(NFL_MLB['W/L ratio_x'], NFL_MLB['W/L ratio_y'])\n",
    "    NBA_NHL_stat = stats.ttest_rel(NBA_NHL['W/L ratio_x'], NBA_NHL['W/L ratio_y'])\n",
    "    NBA_MLB_stat = stats.ttest_rel(NBA_MLB['W/L ratio_x'], NBA_MLB['W/L ratio_y'])\n",
    "    NHL_MLB_stat = stats.ttest_rel(NHL_MLB['W/L ratio_x'], NHL_MLB['W/L ratio_y'])\n",
    "    \n",
    "    p_values.loc[\"NFL\", \"NBA\"] = NFL_NBA_stat.pvalue\n",
    "    p_values.loc[\"NBA\", \"NFL\"] = NFL_NBA_stat.pvalue\n",
    "    p_values.loc[\"NFL\", \"NHL\"] = NFL_NHL_stat.pvalue\n",
    "    p_values.loc[\"NHL\", \"NFL\"] = NFL_NHL_stat.pvalue\n",
    "    p_values.loc[\"NFL\", \"MLB\"] = NFL_MLB_stat.pvalue\n",
    "    p_values.loc[\"MLB\", \"NFL\"] = NFL_MLB_stat.pvalue\n",
    "    p_values.loc[\"NBA\", \"NHL\"] = NBA_NHL_stat.pvalue\n",
    "    p_values.loc[\"NHL\", \"NBA\"] = NBA_NHL_stat.pvalue\n",
    "    p_values.loc[\"NBA\", \"MLB\"] = NBA_MLB_stat.pvalue\n",
    "    p_values.loc[\"MLB\", \"NBA\"] = NBA_MLB_stat.pvalue\n",
    "    p_values.loc[\"NHL\", \"MLB\"] = NHL_MLB_stat.pvalue\n",
    "    p_values.loc[\"MLB\", \"NHL\"] = NHL_MLB_stat.pvalue\n",
    "    \n",
    "    assert abs(p_values.loc[\"NBA\", \"NHL\"] - 0.02) <= 1e-2, \"The NBA-NHL p-value should be around 0.02\"\n",
    "    assert abs(p_values.loc[\"MLB\", \"NFL\"] - 0.80) <= 1e-2, \"The MLB-NFL p-value should be around 0.80\"\n",
    "    return p_values\n",
    "\n",
    "sports_team_performance()"
   ]
  },
  {
   "cell_type": "code",
   "execution_count": null,
   "metadata": {
    "deletable": false,
    "editable": false,
    "nbgrader": {
     "cell_type": "code",
     "checksum": "2a596ab421a45cc01168d10e8fbb8f89",
     "grade": true,
     "grade_id": "cell-fb4b9cb5ff4570a6",
     "locked": true,
     "points": 20,
     "schema_version": 3,
     "solution": false
    }
   },
   "outputs": [],
   "source": []
  }
 ],
 "metadata": {
  "etc_active_cell": 14,
  "kernelspec": {
   "display_name": "Python 3 (ipykernel)",
   "language": "python",
   "name": "python3"
  },
  "language_info": {
   "codemirror_mode": {
    "name": "ipython",
    "version": 3
   },
   "file_extension": ".py",
   "mimetype": "text/x-python",
   "name": "python",
   "nbconvert_exporter": "python",
   "pygments_lexer": "ipython3",
   "version": "3.11.2"
  }
 },
 "nbformat": 4,
 "nbformat_minor": 4
}
